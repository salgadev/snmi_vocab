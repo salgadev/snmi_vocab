{
 "cells": [
  {
   "cell_type": "markdown",
   "metadata": {},
   "source": [
    "# Vocabulary Generator from SNMI"
   ]
  },
  {
   "cell_type": "code",
   "execution_count": null,
   "metadata": {},
   "outputs": [],
   "source": [
    "import pip\n",
    "# uncomment if rdflib not installed\n",
    "#pip.main(['install', 'rdflib'])\n",
    "#pip.main(['install', 'sparql-client'])\n",
    "# importing libraries\n",
    "import os\n",
    "import pandas as pd\n",
    "import json\n",
    "import sparql"
   ]
  },
  {
   "cell_type": "markdown",
   "metadata": {},
   "source": [
    "## Load CSV from Bioportal"
   ]
  },
  {
   "cell_type": "code",
   "execution_count": null,
   "metadata": {},
   "outputs": [],
   "source": [
    "snmi = pd.read_csv(\"SNMI.csv\")\n"
   ]
  },
  {
   "cell_type": "markdown",
   "metadata": {},
   "source": [
    "## Separate by Semantic Type (STY)"
   ]
  },
  {
   "cell_type": "code",
   "execution_count": null,
   "metadata": {},
   "outputs": [],
   "source": [
    "def getbysty(df,sty):\n",
    "    if isinstance(sty, list):\n",
    "        dflist = []\n",
    "        for st in sty:\n",
    "            dflist.append(df[df[\"Semantic Types\"].str.contains(\"http://purl.bioontology.org/ontology/STY/\" + st, na = False)])\n",
    "        return pd.concat(dflist, ignore_index=True)\n",
    "    else:\n",
    "        return df[df[\"Semantic Types\"].str.contains(\"http://purl.bioontology.org/ontology/STY/\" + sty, na = False)]\n",
    "\n",
    "\n",
    "def prune(instr):\n",
    "    return instr.replace(\", NOS\",\"\")\n",
    "\n",
    "\n",
    "def todict(df):\n",
    "    vocab ={}\n",
    "    num = 0\n",
    "    for index, row in df.iterrows():\n",
    "        vocab[num] = {\"ID\":row[\"Class ID\"], \"properties\": {\n",
    "            \"label\": \"lab\",\n",
    "            \"synonyms\": \"syn\",\n",
    "            \"associated\": \"nan\",\n",
    "            \"parents\": \"parent\"}}\n",
    "        vocab[num].update({\"ID\":row[\"Class ID\"]})\n",
    "        vocab[num][\"properties\"].update({\"label\":prune(row[\"Preferred Label\"])})\n",
    "        assoc = str(row[\"Associated with\"]).split(\"|\")\n",
    "        assoclist = []\n",
    "        #if assoc[0]!=\"nan\":\n",
    "        vocab[num][\"properties\"].update({\"associated\":assoc[0]})\n",
    "        synonyms = str(row[\"Synonyms\"]).split(\"|\")\n",
    "        synlist = []\n",
    "        if synonyms[0]!=\"nan\":\n",
    "            for s in synonyms:\n",
    "                synlist.append(prune(s))\n",
    "        else:\n",
    "            synlist = [\"nan\"]\n",
    "        vocab[num][\"properties\"].update({\"synonyms\":synlist})\n",
    "        parent = str(row[\"Parents\"]).split(\"|\")\n",
    "        vocab[num][\"properties\"].update({\"parents\":parent[0]})\n",
    "        num +=1\n",
    "    return vocab\n",
    "    \n",
    "# give semantic types either as string or list\n",
    "# full list of semantic types: https://gist.github.com/joelkuiper/4869d148333f279c2b2e\n",
    "\n",
    "viruses = todict(getbysty(snmi, \"T005\"))\n",
    "bacteria = todict(getbysty(snmi, \"T007\"))\n",
    "diseases = todict(getbysty(snmi, \"T047\"))\n",
    "\n",
    "coronasynonyms = [\"corona\",\"COVID-19\",\"COVID-19 virus\",\"2019 novel coronavirus\", \"coronavirus\",\"novel coronavirus\",\"2019-nCoV\",\"SARS-CoV-2\", \"corona virus\", \"severe acute respiratory syndrome coronavirus 2\", \"2019-novel Corona virus\", \"wuhan corona virus\", \"wuhan virus\"]\n",
    "\n",
    "corona = {0:{\"ID\":\"http://purl.bioontology.org/ontology/SNMI/L-33502\", \"properties\": {\n",
    "            \"label\": \"SARS-CoV-2\",\n",
    "            \"synonyms\": coronasynonyms,\n",
    "            \"associated\": \"nan\",\n",
    "            \"parents\": \"http://purl.bioontology.org/ontology/SNMI/L-33500\"}}}\n"
   ]
  },
  {
   "cell_type": "code",
   "execution_count": null,
   "metadata": {},
   "outputs": [],
   "source": [
    "with open('viruses.json', 'w') as f:\n",
    "    json.dump(viruses, f)\n",
    "    \n",
    "with open('bacteria.json', 'w') as f:\n",
    "    json.dump(bacteria, f)\n",
    "    \n",
    "with open('diseases.json', 'w') as f:\n",
    "    json.dump(diseases, f)\n",
    "    \n",
    "\n",
    "with open('corona.json', 'w') as f:\n",
    "    json.dump(corona, f)"
   ]
  }
 ],
 "metadata": {
  "kernelspec": {
   "display_name": "Python 3",
   "language": "python",
   "name": "python3"
  },
  "language_info": {
   "codemirror_mode": {
    "name": "ipython",
    "version": 3
   },
   "file_extension": ".py",
   "mimetype": "text/x-python",
   "name": "python",
   "nbconvert_exporter": "python",
   "pygments_lexer": "ipython3",
   "version": "3.6.7"
  }
 },
 "nbformat": 4,
 "nbformat_minor": 4
}
